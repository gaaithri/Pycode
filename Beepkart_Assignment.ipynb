{
 "cells": [
  {
   "cell_type": "code",
   "execution_count": null,
   "metadata": {},
   "outputs": [],
   "source": [
    "Expected Output \n",
    "1\n",
    "2 2\n",
    "3 3 3 \n",
    "4 4 4 4 \n",
    "5 5 5 5 5\n",
    "^^^^^^^^^^^^^^^^^^^^^^^^^^^^^\n",
    "1\n",
    "2 A\n",
    "3 B 3 \n",
    "4 C 4 4 \n",
    "5 D 5 5 5 \n",
    "\n",
    "============================="
   ]
  },
  {
   "cell_type": "code",
   "execution_count": 7,
   "metadata": {},
   "outputs": [
    {
     "name": "stdout",
     "output_type": "stream",
     "text": [
      "5\n",
      "-----Displaying output---\n",
      "1\n",
      "2 ! \n",
      "3 @ 3 \n",
      "4 # 4 4 \n",
      "5 $ 5 5 5 \n"
     ]
    }
   ],
   "source": [
    "\n",
    "# Program 2:\n",
    "order = int(input())\n",
    "characterList = ['!', '@', '#', '$', '(', '^', '&',')'] \n",
    "print(\"-----Displaying output---\")\n",
    "for j in range(1,order+1):\n",
    "    if (j>1): \n",
    "        print (j,characterList[j-2], end = ' ')\n",
    "        for k in range(j-2):\n",
    "            print (j, end = ' ')\n",
    "        print()\n",
    "    else: \n",
    "        print(j)\n",
    "        \n",
    "    \n",
    "        \n",
    "        \n",
    "    "
   ]
  },
  {
   "cell_type": "code",
   "execution_count": 8,
   "metadata": {},
   "outputs": [
    {
     "name": "stdout",
     "output_type": "stream",
     "text": [
      "5\n",
      "-----Displaying output---\n",
      "\n",
      "1 \n",
      "2 2 \n",
      "3 3 3 \n",
      "4 4 4 4 \n",
      "5 5 5 5 5 \n"
     ]
    }
   ],
   "source": [
    "# program1 \n",
    "order = int(input())\n",
    "print(\"-----Displaying output---\")\n",
    "for i in range(order+1):\n",
    "    for j in range(i): \n",
    "        print (i, end = ' ')\n",
    "    print()\n"
   ]
  },
  {
   "cell_type": "code",
   "execution_count": null,
   "metadata": {},
   "outputs": [],
   "source": []
  }
 ],
 "metadata": {
  "kernelspec": {
   "display_name": "Python 3",
   "language": "python",
   "name": "python3"
  },
  "language_info": {
   "codemirror_mode": {
    "name": "ipython",
    "version": 3
   },
   "file_extension": ".py",
   "mimetype": "text/x-python",
   "name": "python",
   "nbconvert_exporter": "python",
   "pygments_lexer": "ipython3",
   "version": "3.7.3"
  }
 },
 "nbformat": 4,
 "nbformat_minor": 2
}
